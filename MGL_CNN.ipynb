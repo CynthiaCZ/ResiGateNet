{
  "nbformat": 4,
  "nbformat_minor": 0,
  "metadata": {
    "colab": {
      "provenance": [],
      "gpuType": "T4"
    },
    "kernelspec": {
      "name": "python3",
      "display_name": "Python 3"
    },
    "language_info": {
      "name": "python"
    },
    "accelerator": "GPU"
  },
  "cells": [
    {
      "cell_type": "code",
      "execution_count": null,
      "metadata": {
        "id": "wgwRlGN2xmdI"
      },
      "outputs": [],
      "source": [
        "from google.colab import drive\n",
        "import pandas as pd\n",
        "import numpy as np\n",
        "from sklearn.model_selection import train_test_split\n",
        "\n",
        "import tensorflow as tf\n",
        "\n",
        "from tensorflow.keras.models import Model\n",
        "from tensorflow.keras.callbacks import EarlyStopping\n",
        "from tensorflow.keras.layers import Layer, Input, Embedding, Conv1D, Add, ReLU, LeakyReLU, GlobalAveragePooling1D, Dense, Dropout, BatchNormalization, Concatenate\n",
        "\n"
      ]
    },
    {
      "cell_type": "code",
      "source": [
        "drive_dir = '/content/drive'\n",
        "drive.mount(drive_dir, force_remount=True)\n",
        "\n",
        "data_path = \"/content/drive/My Drive/CSCI2470_final_project/clean.pkl\"\n",
        "df = pd.read_pickle(data_path)\n",
        "print(df.head())"
      ],
      "metadata": {
        "id": "8Q_DrqtHxq82",
        "colab": {
          "base_uri": "https://localhost:8080/"
        },
        "outputId": "e29e4b8c-e96f-4398-dc7a-cdb85cfa1c87"
      },
      "execution_count": null,
      "outputs": [
        {
          "output_type": "stream",
          "name": "stdout",
          "text": [
            "Mounted at /content/drive\n",
            "                                       padded_tokens  label\n",
            "0  [4654, 2564, 8701, 5920, 2890, 13013, 2135, 10...      1\n",
            "1  [2572, 1045, 6881, 1045, 2123, 1005, 1056, 213...      0\n",
            "2  [2633, 12609, 2003, 2471, 2058, 1012, 1012, 10...      0\n",
            "3  [1045, 2342, 2393, 29427, 2393, 2033, 10047, 6...      1\n",
            "4  [1045, 1521, 1049, 2061, 2439, 18223, 2080, 10...      1\n"
          ]
        }
      ]
    },
    {
      "cell_type": "code",
      "source": [
        "X = df['padded_tokens']\n",
        "y = df['label']\n",
        "\n",
        "X = np.array(df['padded_tokens'].tolist())\n",
        "\n",
        "print('X shape:', X.shape)"
      ],
      "metadata": {
        "id": "YBCqKZ44xs-3",
        "colab": {
          "base_uri": "https://localhost:8080/"
        },
        "outputId": "70a35a27-36b5-4bc5-cea2-e0b250ed00b4"
      },
      "execution_count": null,
      "outputs": [
        {
          "output_type": "stream",
          "name": "stdout",
          "text": [
            "X shape: (310601, 250)\n"
          ]
        }
      ]
    },
    {
      "cell_type": "code",
      "source": [
        "X_train, X_test, y_train, y_test = train_test_split(X, y, test_size=0.2, random_state=42)"
      ],
      "metadata": {
        "id": "qzKqLqCGxxRk"
      },
      "execution_count": null,
      "outputs": []
    },
    {
      "cell_type": "code",
      "source": [
        "max_token_id = max([max(tokens) for tokens in df['padded_tokens'] if tokens])"
      ],
      "metadata": {
        "id": "GX-sWmroxyzZ"
      },
      "execution_count": null,
      "outputs": []
    },
    {
      "cell_type": "code",
      "source": [
        "class GatedConv1D(Layer):\n",
        "    def __init__(self, filters, kernel_size, **kwargs):\n",
        "        super(GatedConv1D, self).__init__(**kwargs)\n",
        "        self.conv = Conv1D(filters, kernel_size, activation='linear', padding='same')\n",
        "        self.gate = Conv1D(filters, kernel_size, activation='sigmoid', padding='same')\n",
        "\n",
        "    def call(self, inputs):\n",
        "        conv_output = self.conv(inputs)\n",
        "        conv_output = LeakyReLU()(conv_output)\n",
        "        gate_output = self.gate(inputs)\n",
        "        return conv_output * gate_output"
      ],
      "metadata": {
        "id": "7Tg3ri04x0G6"
      },
      "execution_count": null,
      "outputs": []
    },
    {
      "cell_type": "code",
      "source": [
        "# Parameters\n",
        "seq_length = 250\n",
        "vocab_size = max_token_id + 1\n",
        "embedding_dim = 50\n",
        "num_filters = 128\n",
        "kernel_sizes_first = [3, 5]  # for the first Conv1D layers (Filter1_1 and Filter1_2)\n",
        "kernel_sizes_second = [5, 7]  # for the second Conv1D layers (Filter2_1 and Filter2_2)\n",
        "\n",
        "inputs = Input(shape=(seq_length,))\n",
        "x_embedded = Embedding(input_dim=vocab_size, output_dim=embedding_dim, input_length=seq_length)(inputs)\n",
        "\n",
        "# first Conv1D layer\n",
        "conv_branches = []\n",
        "for kernel_size in kernel_sizes_first:\n",
        "    conv_branch = Conv1D(filters=num_filters, kernel_size=kernel_size, padding='same', activation='relu')(x_embedded)\n",
        "    conv_branches.append(conv_branch)\n",
        "\n",
        "# second Conv1D layer that further splits each branch from the first layer\n",
        "split_conv_branches = []\n",
        "for i, kernel_size in enumerate(kernel_sizes_second):\n",
        "    for conv_branch in conv_branches:\n",
        "        split_conv_branch = Conv1D(filters=num_filters, kernel_size=kernel_size, padding='same', activation='relu')(conv_branch)\n",
        "        split_conv_branches.append(split_conv_branch)\n",
        "\n",
        "# gated convolutions for each of the split branches\n",
        "gated_branches = []\n",
        "for split_conv_branch in split_conv_branches:\n",
        "    gated_branch = GatedConv1D(filters=num_filters, kernel_size=kernel_size)(split_conv_branch)\n",
        "    gated_branch = BatchNormalization()(gated_branch)\n",
        "    gated_branch = Dropout(0.5)(gated_branch)\n",
        "\n",
        "    # residual connection\n",
        "    res_block = Add()([split_conv_branch, gated_branch])\n",
        "    res_block = ReLU()(res_block)\n",
        "\n",
        "    gated_branches.append(res_block)\n",
        "\n",
        "# pool each branch\n",
        "pooled_outputs = [GlobalAveragePooling1D()(gated_branch) for gated_branch in gated_branches]\n",
        "\n",
        "# concatenate the pooled outputs from each branch\n",
        "concatenated = Concatenate()(pooled_outputs)\n",
        "\n",
        "# final dense layers\n",
        "dense = Dense(64, activation='relu')(concatenated)\n",
        "dense = Dropout(0.5)(dense)\n",
        "outputs = Dense(1, activation='sigmoid')(dense)\n",
        "\n",
        "model = Model(inputs=inputs, outputs=outputs)\n",
        "model.compile(loss='binary_crossentropy', optimizer='adam', metrics=['accuracy'])\n",
        "\n",
        "model.summary()"
      ],
      "metadata": {
        "id": "IcO8xXhYyEEB",
        "colab": {
          "base_uri": "https://localhost:8080/"
        },
        "outputId": "331d2e57-8272-4be2-98c0-55850c5cc872"
      },
      "execution_count": null,
      "outputs": [
        {
          "output_type": "stream",
          "name": "stdout",
          "text": [
            "Model: \"model\"\n",
            "__________________________________________________________________________________________________\n",
            " Layer (type)                Output Shape                 Param #   Connected to                  \n",
            "==================================================================================================\n",
            " input_1 (InputLayer)        [(None, 250)]                0         []                            \n",
            "                                                                                                  \n",
            " embedding (Embedding)       (None, 250, 50)              1526100   ['input_1[0][0]']             \n",
            "                                                                                                  \n",
            " conv1d (Conv1D)             (None, 250, 128)             19328     ['embedding[0][0]']           \n",
            "                                                                                                  \n",
            " conv1d_1 (Conv1D)           (None, 250, 128)             32128     ['embedding[0][0]']           \n",
            "                                                                                                  \n",
            " conv1d_2 (Conv1D)           (None, 250, 128)             82048     ['conv1d[0][0]']              \n",
            "                                                                                                  \n",
            " conv1d_3 (Conv1D)           (None, 250, 128)             82048     ['conv1d_1[0][0]']            \n",
            "                                                                                                  \n",
            " conv1d_4 (Conv1D)           (None, 250, 128)             114816    ['conv1d[0][0]']              \n",
            "                                                                                                  \n",
            " conv1d_5 (Conv1D)           (None, 250, 128)             114816    ['conv1d_1[0][0]']            \n",
            "                                                                                                  \n",
            " gated_conv1d (GatedConv1D)  (None, 250, 128)             229632    ['conv1d_2[0][0]']            \n",
            "                                                                                                  \n",
            " gated_conv1d_1 (GatedConv1  (None, 250, 128)             229632    ['conv1d_3[0][0]']            \n",
            " D)                                                                                               \n",
            "                                                                                                  \n",
            " gated_conv1d_2 (GatedConv1  (None, 250, 128)             229632    ['conv1d_4[0][0]']            \n",
            " D)                                                                                               \n",
            "                                                                                                  \n",
            " gated_conv1d_3 (GatedConv1  (None, 250, 128)             229632    ['conv1d_5[0][0]']            \n",
            " D)                                                                                               \n",
            "                                                                                                  \n",
            " batch_normalization (Batch  (None, 250, 128)             512       ['gated_conv1d[0][0]']        \n",
            " Normalization)                                                                                   \n",
            "                                                                                                  \n",
            " batch_normalization_1 (Bat  (None, 250, 128)             512       ['gated_conv1d_1[0][0]']      \n",
            " chNormalization)                                                                                 \n",
            "                                                                                                  \n",
            " batch_normalization_2 (Bat  (None, 250, 128)             512       ['gated_conv1d_2[0][0]']      \n",
            " chNormalization)                                                                                 \n",
            "                                                                                                  \n",
            " batch_normalization_3 (Bat  (None, 250, 128)             512       ['gated_conv1d_3[0][0]']      \n",
            " chNormalization)                                                                                 \n",
            "                                                                                                  \n",
            " dropout (Dropout)           (None, 250, 128)             0         ['batch_normalization[0][0]'] \n",
            "                                                                                                  \n",
            " dropout_1 (Dropout)         (None, 250, 128)             0         ['batch_normalization_1[0][0]'\n",
            "                                                                    ]                             \n",
            "                                                                                                  \n",
            " dropout_2 (Dropout)         (None, 250, 128)             0         ['batch_normalization_2[0][0]'\n",
            "                                                                    ]                             \n",
            "                                                                                                  \n",
            " dropout_3 (Dropout)         (None, 250, 128)             0         ['batch_normalization_3[0][0]'\n",
            "                                                                    ]                             \n",
            "                                                                                                  \n",
            " add (Add)                   (None, 250, 128)             0         ['conv1d_2[0][0]',            \n",
            "                                                                     'dropout[0][0]']             \n",
            "                                                                                                  \n",
            " add_1 (Add)                 (None, 250, 128)             0         ['conv1d_3[0][0]',            \n",
            "                                                                     'dropout_1[0][0]']           \n",
            "                                                                                                  \n",
            " add_2 (Add)                 (None, 250, 128)             0         ['conv1d_4[0][0]',            \n",
            "                                                                     'dropout_2[0][0]']           \n",
            "                                                                                                  \n",
            " add_3 (Add)                 (None, 250, 128)             0         ['conv1d_5[0][0]',            \n",
            "                                                                     'dropout_3[0][0]']           \n",
            "                                                                                                  \n",
            " re_lu (ReLU)                (None, 250, 128)             0         ['add[0][0]']                 \n",
            "                                                                                                  \n",
            " re_lu_1 (ReLU)              (None, 250, 128)             0         ['add_1[0][0]']               \n",
            "                                                                                                  \n",
            " re_lu_2 (ReLU)              (None, 250, 128)             0         ['add_2[0][0]']               \n",
            "                                                                                                  \n",
            " re_lu_3 (ReLU)              (None, 250, 128)             0         ['add_3[0][0]']               \n",
            "                                                                                                  \n",
            " global_average_pooling1d (  (None, 128)                  0         ['re_lu[0][0]']               \n",
            " GlobalAveragePooling1D)                                                                          \n",
            "                                                                                                  \n",
            " global_average_pooling1d_1  (None, 128)                  0         ['re_lu_1[0][0]']             \n",
            "  (GlobalAveragePooling1D)                                                                        \n",
            "                                                                                                  \n",
            " global_average_pooling1d_2  (None, 128)                  0         ['re_lu_2[0][0]']             \n",
            "  (GlobalAveragePooling1D)                                                                        \n",
            "                                                                                                  \n",
            " global_average_pooling1d_3  (None, 128)                  0         ['re_lu_3[0][0]']             \n",
            "  (GlobalAveragePooling1D)                                                                        \n",
            "                                                                                                  \n",
            " concatenate (Concatenate)   (None, 512)                  0         ['global_average_pooling1d[0][\n",
            "                                                                    0]',                          \n",
            "                                                                     'global_average_pooling1d_1[0\n",
            "                                                                    ][0]',                        \n",
            "                                                                     'global_average_pooling1d_2[0\n",
            "                                                                    ][0]',                        \n",
            "                                                                     'global_average_pooling1d_3[0\n",
            "                                                                    ][0]']                        \n",
            "                                                                                                  \n",
            " dense (Dense)               (None, 64)                   32832     ['concatenate[0][0]']         \n",
            "                                                                                                  \n",
            " dropout_4 (Dropout)         (None, 64)                   0         ['dense[0][0]']               \n",
            "                                                                                                  \n",
            " dense_1 (Dense)             (None, 1)                    65        ['dropout_4[0][0]']           \n",
            "                                                                                                  \n",
            "==================================================================================================\n",
            "Total params: 2924757 (11.16 MB)\n",
            "Trainable params: 2923733 (11.15 MB)\n",
            "Non-trainable params: 1024 (4.00 KB)\n",
            "__________________________________________________________________________________________________\n"
          ]
        }
      ]
    },
    {
      "cell_type": "code",
      "source": [
        "early_stopping = EarlyStopping(\n",
        "    monitor='val_loss',\n",
        "    patience=3,\n",
        "    verbose=1,\n",
        "    restore_best_weights=True\n",
        ")\n",
        "history = model.fit(X_train, y_train, epochs=10, batch_size=32, validation_split=0.2, callbacks=[early_stopping])"
      ],
      "metadata": {
        "id": "Rw3mW56tyv59",
        "colab": {
          "base_uri": "https://localhost:8080/"
        },
        "outputId": "42f8dac7-ae99-4c52-8146-6820c666be43"
      },
      "execution_count": null,
      "outputs": [
        {
          "output_type": "stream",
          "name": "stdout",
          "text": [
            "Epoch 1/10\n",
            "6212/6212 [==============================] - 315s 49ms/step - loss: 0.2023 - accuracy: 0.9262 - val_loss: 0.1537 - val_accuracy: 0.9449\n",
            "Epoch 2/10\n",
            "6212/6212 [==============================] - 226s 36ms/step - loss: 0.1367 - accuracy: 0.9522 - val_loss: 0.1459 - val_accuracy: 0.9469\n",
            "Epoch 3/10\n",
            "6212/6212 [==============================] - 227s 37ms/step - loss: 0.1044 - accuracy: 0.9645 - val_loss: 0.1682 - val_accuracy: 0.9428\n",
            "Epoch 4/10\n",
            "6212/6212 [==============================] - 225s 36ms/step - loss: 0.0785 - accuracy: 0.9739 - val_loss: 0.1592 - val_accuracy: 0.9431\n",
            "Epoch 5/10\n",
            "6212/6212 [==============================] - ETA: 0s - loss: 0.0577 - accuracy: 0.9803Restoring model weights from the end of the best epoch: 2.\n",
            "6212/6212 [==============================] - 219s 35ms/step - loss: 0.0577 - accuracy: 0.9803 - val_loss: 0.1987 - val_accuracy: 0.9388\n",
            "Epoch 5: early stopping\n"
          ]
        }
      ]
    },
    {
      "cell_type": "code",
      "source": [
        "test_loss, test_accuracy = model.evaluate(X_test, y_test)\n",
        "print(f\"Test accuracy: {test_accuracy:.4f}, Test loss: {test_loss:.4f}\")"
      ],
      "metadata": {
        "colab": {
          "base_uri": "https://localhost:8080/"
        },
        "id": "dIUwr5eB30oc",
        "outputId": "8698d86c-7d8a-41bf-c1ae-7abc267036c4"
      },
      "execution_count": null,
      "outputs": [
        {
          "output_type": "stream",
          "name": "stdout",
          "text": [
            "1942/1942 [==============================] - 22s 11ms/step - loss: 0.1480 - accuracy: 0.9455\n",
            "Test accuracy: 0.9455, Test loss: 0.1480\n"
          ]
        }
      ]
    },
    {
      "cell_type": "code",
      "source": [
        "model.save('/content/drive/My Drive/CSCI2470_final_project/MGL_CNN', save_format=\"h5\")"
      ],
      "metadata": {
        "colab": {
          "base_uri": "https://localhost:8080/"
        },
        "id": "Ayf41PWJ36rA",
        "outputId": "b4e11cb0-f9e5-4183-ff10-1e6292439e44"
      },
      "execution_count": null,
      "outputs": [
        {
          "output_type": "stream",
          "name": "stderr",
          "text": [
            "/usr/local/lib/python3.10/dist-packages/keras/src/engine/training.py:3103: UserWarning: You are saving your model as an HDF5 file via `model.save()`. This file format is considered legacy. We recommend using instead the native Keras format, e.g. `model.save('my_model.keras')`.\n",
            "  saving_api.save_model(\n"
          ]
        }
      ]
    }
  ]
}