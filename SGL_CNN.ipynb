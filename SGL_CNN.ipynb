{
  "nbformat": 4,
  "nbformat_minor": 0,
  "metadata": {
    "colab": {
      "provenance": [],
      "gpuType": "T4"
    },
    "kernelspec": {
      "name": "python3",
      "display_name": "Python 3"
    },
    "language_info": {
      "name": "python"
    },
    "accelerator": "GPU"
  },
  "cells": [
    {
      "cell_type": "code",
      "execution_count": null,
      "metadata": {
        "id": "hCzeYtcXYhAt"
      },
      "outputs": [],
      "source": [
        "from google.colab import drive\n",
        "import pandas as pd\n",
        "import numpy as np\n",
        "from sklearn.model_selection import train_test_split\n",
        "\n",
        "import tensorflow as tf\n",
        "\n",
        "from tensorflow.keras.models import Model\n",
        "from tensorflow.keras.callbacks import EarlyStopping\n",
        "from tensorflow.keras.layers import Layer, Input, Embedding, Conv1D, Add, ReLU, LeakyReLU, GlobalAveragePooling1D, Dense, Dropout, BatchNormalization, Concatenate\n"
      ]
    },
    {
      "cell_type": "code",
      "source": [
        "drive_dir = '/content/drive'\n",
        "drive.mount(drive_dir, force_remount=True)\n",
        "\n",
        "data_path = \"/content/drive/My Drive/CSCI2470_final_project/clean.pkl\"\n",
        "df = pd.read_pickle(data_path)\n",
        "print(df.head())"
      ],
      "metadata": {
        "id": "QoHCtfqufRsT",
        "colab": {
          "base_uri": "https://localhost:8080/"
        },
        "outputId": "e4add5ea-50e3-4a3a-ca1d-e5b2eb3fe718"
      },
      "execution_count": null,
      "outputs": [
        {
          "output_type": "stream",
          "name": "stdout",
          "text": [
            "Mounted at /content/drive\n",
            "                                       padded_tokens  label\n",
            "0  [4654, 2564, 8701, 5920, 2890, 13013, 2135, 10...      1\n",
            "1  [2572, 1045, 6881, 1045, 2123, 1005, 1056, 213...      0\n",
            "2  [2633, 12609, 2003, 2471, 2058, 1012, 1012, 10...      0\n",
            "3  [1045, 2342, 2393, 29427, 2393, 2033, 10047, 6...      1\n",
            "4  [1045, 1521, 1049, 2061, 2439, 18223, 2080, 10...      1\n"
          ]
        }
      ]
    },
    {
      "cell_type": "code",
      "source": [
        "X = df['padded_tokens']\n",
        "y = df['label']\n",
        "\n",
        "X = np.array(df['padded_tokens'].tolist())\n",
        "\n",
        "print('X shape:', X.shape)"
      ],
      "metadata": {
        "id": "dRX3pNZpgBm1",
        "colab": {
          "base_uri": "https://localhost:8080/"
        },
        "outputId": "c557a370-6b70-4b07-82d7-1f70ef058938"
      },
      "execution_count": null,
      "outputs": [
        {
          "output_type": "stream",
          "name": "stdout",
          "text": [
            "X shape: (310601, 250)\n"
          ]
        }
      ]
    },
    {
      "cell_type": "code",
      "source": [
        "X_train, X_test, y_train, y_test = train_test_split(X, y, test_size=0.2, random_state=42)"
      ],
      "metadata": {
        "id": "NcemjX9ZfTt-"
      },
      "execution_count": null,
      "outputs": []
    },
    {
      "cell_type": "code",
      "source": [
        "max_token_id = max([max(tokens) for tokens in df['padded_tokens'] if tokens])"
      ],
      "metadata": {
        "id": "rEYp8lVZiWXV"
      },
      "execution_count": null,
      "outputs": []
    },
    {
      "cell_type": "code",
      "source": [
        "class GatedConv1D(Layer):\n",
        "    def __init__(self, filters, kernel_size, **kwargs):\n",
        "        super(GatedConv1D, self).__init__(**kwargs)\n",
        "        self.conv = Conv1D(filters, kernel_size, activation='linear', padding='same')\n",
        "        self.gate = Conv1D(filters, kernel_size, activation='sigmoid', padding='same')\n",
        "\n",
        "    def call(self, inputs):\n",
        "        conv_output = self.conv(inputs)\n",
        "        conv_output = LeakyReLU()(conv_output)\n",
        "        gate_output = self.gate(inputs)\n",
        "        return conv_output * gate_output"
      ],
      "metadata": {
        "id": "qyLwKFDld9Q6"
      },
      "execution_count": null,
      "outputs": []
    },
    {
      "cell_type": "code",
      "source": [
        "# Parameters\n",
        "seq_length = 250  # each sequence is padded to 250\n",
        "vocab_size = max_token_id + 1  # +1 for pad\n",
        "embedding_dim = 50\n",
        "num_classes = 2\n",
        "num_filters = 128\n",
        "kernel_sizes = [3, 5]  # different kernel sizes for parallel blocks\n",
        "\n",
        "inputs = Input(shape=(seq_length,))\n",
        "x = Embedding(input_dim=vocab_size, output_dim=embedding_dim, input_length=seq_length)(inputs)\n",
        "\n",
        "# two parallel gated convolutional blocks with residual connections\n",
        "pooled_outputs = []\n",
        "for kernel_size in kernel_sizes:\n",
        "    conv = Conv1D(filters=num_filters, kernel_size=kernel_size, padding='same', activation='linear')(x)\n",
        "    gated = GatedConv1D(filters=num_filters, kernel_size=7)(conv)\n",
        "    gated = BatchNormalization()(gated)\n",
        "    gated = Dropout(0.5)(gated)\n",
        "\n",
        "    # residual connection\n",
        "    res_block = Add()([conv, gated])\n",
        "    res_block = ReLU()(res_block)\n",
        "\n",
        "    # pool each branch\n",
        "    pooled = GlobalAveragePooling1D()(res_block)\n",
        "    pooled_outputs.append(pooled)\n",
        "\n",
        "# concatenate parallel block outputs\n",
        "concatenated = Concatenate()(pooled_outputs) if len(pooled_outputs) > 1 else pooled_outputs[0]\n",
        "\n",
        "# dense layers\n",
        "x_final = Dense(64, activation='relu')(concatenated)\n",
        "x_final = Dropout(0.5)(x_final)\n",
        "outputs = Dense(1, activation='sigmoid')(x_final)\n",
        "\n",
        "model = Model(inputs=inputs, outputs=outputs)\n",
        "model.compile(loss='binary_crossentropy', optimizer='adam', metrics=['accuracy'])\n",
        "\n",
        "model.summary()"
      ],
      "metadata": {
        "id": "hCewlVgOdxOx",
        "colab": {
          "base_uri": "https://localhost:8080/"
        },
        "outputId": "ea8a016c-648d-44c3-ae8c-2e3e1e2617b5"
      },
      "execution_count": null,
      "outputs": [
        {
          "output_type": "stream",
          "name": "stdout",
          "text": [
            "Model: \"model_1\"\n",
            "__________________________________________________________________________________________________\n",
            " Layer (type)                Output Shape                 Param #   Connected to                  \n",
            "==================================================================================================\n",
            " input_2 (InputLayer)        [(None, 250)]                0         []                            \n",
            "                                                                                                  \n",
            " embedding_1 (Embedding)     (None, 250, 50)              1526100   ['input_2[0][0]']             \n",
            "                                                                                                  \n",
            " conv1d_6 (Conv1D)           (None, 250, 128)             19328     ['embedding_1[0][0]']         \n",
            "                                                                                                  \n",
            " conv1d_9 (Conv1D)           (None, 250, 128)             32128     ['embedding_1[0][0]']         \n",
            "                                                                                                  \n",
            " gated_conv1d_2 (GatedConv1  (None, 250, 128)             229632    ['conv1d_6[0][0]']            \n",
            " D)                                                                                               \n",
            "                                                                                                  \n",
            " gated_conv1d_3 (GatedConv1  (None, 250, 128)             229632    ['conv1d_9[0][0]']            \n",
            " D)                                                                                               \n",
            "                                                                                                  \n",
            " batch_normalization_2 (Bat  (None, 250, 128)             512       ['gated_conv1d_2[0][0]']      \n",
            " chNormalization)                                                                                 \n",
            "                                                                                                  \n",
            " batch_normalization_3 (Bat  (None, 250, 128)             512       ['gated_conv1d_3[0][0]']      \n",
            " chNormalization)                                                                                 \n",
            "                                                                                                  \n",
            " dropout_3 (Dropout)         (None, 250, 128)             0         ['batch_normalization_2[0][0]'\n",
            "                                                                    ]                             \n",
            "                                                                                                  \n",
            " dropout_4 (Dropout)         (None, 250, 128)             0         ['batch_normalization_3[0][0]'\n",
            "                                                                    ]                             \n",
            "                                                                                                  \n",
            " add_2 (Add)                 (None, 250, 128)             0         ['conv1d_6[0][0]',            \n",
            "                                                                     'dropout_3[0][0]']           \n",
            "                                                                                                  \n",
            " add_3 (Add)                 (None, 250, 128)             0         ['conv1d_9[0][0]',            \n",
            "                                                                     'dropout_4[0][0]']           \n",
            "                                                                                                  \n",
            " re_lu_2 (ReLU)              (None, 250, 128)             0         ['add_2[0][0]']               \n",
            "                                                                                                  \n",
            " re_lu_3 (ReLU)              (None, 250, 128)             0         ['add_3[0][0]']               \n",
            "                                                                                                  \n",
            " global_average_pooling1d_2  (None, 128)                  0         ['re_lu_2[0][0]']             \n",
            "  (GlobalAveragePooling1D)                                                                        \n",
            "                                                                                                  \n",
            " global_average_pooling1d_3  (None, 128)                  0         ['re_lu_3[0][0]']             \n",
            "  (GlobalAveragePooling1D)                                                                        \n",
            "                                                                                                  \n",
            " concatenate_1 (Concatenate  (None, 256)                  0         ['global_average_pooling1d_2[0\n",
            " )                                                                  ][0]',                        \n",
            "                                                                     'global_average_pooling1d_3[0\n",
            "                                                                    ][0]']                        \n",
            "                                                                                                  \n",
            " dense_2 (Dense)             (None, 64)                   16448     ['concatenate_1[0][0]']       \n",
            "                                                                                                  \n",
            " dropout_5 (Dropout)         (None, 64)                   0         ['dense_2[0][0]']             \n",
            "                                                                                                  \n",
            " dense_3 (Dense)             (None, 1)                    65        ['dropout_5[0][0]']           \n",
            "                                                                                                  \n",
            "==================================================================================================\n",
            "Total params: 2054357 (7.84 MB)\n",
            "Trainable params: 2053845 (7.83 MB)\n",
            "Non-trainable params: 512 (2.00 KB)\n",
            "__________________________________________________________________________________________________\n"
          ]
        }
      ]
    },
    {
      "cell_type": "code",
      "source": [
        "early_stopping = EarlyStopping(\n",
        "    monitor='val_loss',\n",
        "    patience=3,\n",
        "    verbose=1,\n",
        "    restore_best_weights=True\n",
        ")\n",
        "history = model.fit(X_train, y_train, epochs=10, batch_size=32, validation_split=0.2, callbacks=[early_stopping])"
      ],
      "metadata": {
        "id": "m_5FOcaAgogg",
        "colab": {
          "base_uri": "https://localhost:8080/"
        },
        "outputId": "506a4a9f-734b-4559-8194-f1c391f4bc78"
      },
      "execution_count": null,
      "outputs": [
        {
          "output_type": "stream",
          "name": "stdout",
          "text": [
            "Epoch 1/10\n",
            "6212/6212 [==============================] - 161s 25ms/step - loss: 0.2081 - accuracy: 0.9233 - val_loss: 0.1707 - val_accuracy: 0.9389\n",
            "Epoch 2/10\n",
            "6212/6212 [==============================] - 105s 17ms/step - loss: 0.1465 - accuracy: 0.9478 - val_loss: 0.1536 - val_accuracy: 0.9436\n",
            "Epoch 3/10\n",
            "6212/6212 [==============================] - 103s 17ms/step - loss: 0.1175 - accuracy: 0.9587 - val_loss: 0.1695 - val_accuracy: 0.9404\n",
            "Epoch 4/10\n",
            "6212/6212 [==============================] - 102s 16ms/step - loss: 0.0950 - accuracy: 0.9670 - val_loss: 0.1623 - val_accuracy: 0.9423\n",
            "Epoch 5/10\n",
            "6212/6212 [==============================] - ETA: 0s - loss: 0.0776 - accuracy: 0.9729Restoring model weights from the end of the best epoch: 2.\n",
            "6212/6212 [==============================] - 102s 16ms/step - loss: 0.0776 - accuracy: 0.9729 - val_loss: 0.1915 - val_accuracy: 0.9413\n",
            "Epoch 5: early stopping\n"
          ]
        }
      ]
    },
    {
      "cell_type": "code",
      "source": [
        "test_loss, test_accuracy = model.evaluate(X_test, y_test)\n",
        "print(f\"Test accuracy: {test_accuracy:.4f}, Test loss: {test_loss:.4f}\")"
      ],
      "metadata": {
        "colab": {
          "base_uri": "https://localhost:8080/"
        },
        "id": "77Mz_U2rgaqc",
        "outputId": "99ac471e-8c00-43d6-888f-4b5d71ed4ce8"
      },
      "execution_count": null,
      "outputs": [
        {
          "output_type": "stream",
          "name": "stdout",
          "text": [
            "1942/1942 [==============================] - 11s 6ms/step - loss: 0.1527 - accuracy: 0.9430\n",
            "Test accuracy: 0.9430, Test loss: 0.1527\n"
          ]
        }
      ]
    },
    {
      "cell_type": "code",
      "source": [
        "model.save('/content/drive/My Drive/CSCI2470_final_project/SGL_CNN', save_format=\"h5\")"
      ],
      "metadata": {
        "id": "l-U46w-qjhQl",
        "colab": {
          "base_uri": "https://localhost:8080/"
        },
        "outputId": "38495f09-f64a-4381-9b4c-1daafa906939"
      },
      "execution_count": null,
      "outputs": [
        {
          "output_type": "stream",
          "name": "stderr",
          "text": [
            "/usr/local/lib/python3.10/dist-packages/keras/src/engine/training.py:3103: UserWarning: You are saving your model as an HDF5 file via `model.save()`. This file format is considered legacy. We recommend using instead the native Keras format, e.g. `model.save('my_model.keras')`.\n",
            "  saving_api.save_model(\n"
          ]
        }
      ]
    }
  ]
}