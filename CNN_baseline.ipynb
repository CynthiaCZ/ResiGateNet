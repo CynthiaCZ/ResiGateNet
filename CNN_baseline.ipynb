{
  "nbformat": 4,
  "nbformat_minor": 0,
  "metadata": {
    "colab": {
      "provenance": [],
      "gpuType": "T4"
    },
    "kernelspec": {
      "name": "python3",
      "display_name": "Python 3"
    },
    "language_info": {
      "name": "python"
    },
    "accelerator": "GPU"
  },
  "cells": [
    {
      "cell_type": "code",
      "execution_count": null,
      "metadata": {
        "id": "FENCDzsz-uCP"
      },
      "outputs": [],
      "source": [
        "from google.colab import drive\n",
        "import pandas as pd\n",
        "import numpy as np\n",
        "from sklearn.model_selection import train_test_split\n",
        "\n",
        "import tensorflow as tf\n",
        "from tensorflow.keras.models import Sequential\n",
        "from tensorflow.keras.callbacks import EarlyStopping\n",
        "from tensorflow.keras.layers import Embedding, Conv1D, GlobalMaxPooling1D, Dense, Dropout, Flatten"
      ]
    },
    {
      "cell_type": "code",
      "source": [
        "drive_dir = '/content/drive'\n",
        "drive.mount(drive_dir, force_remount=True)\n",
        "\n",
        "data_path = \"/content/drive/My Drive/CSCI2470_final_project/clean.pkl\"\n",
        "df = pd.read_pickle(data_path)\n",
        "print(df.head())"
      ],
      "metadata": {
        "colab": {
          "base_uri": "https://localhost:8080/"
        },
        "id": "ihoSUeja_EkR",
        "outputId": "bd2e52ca-c200-4730-8ce7-417f6b407f45"
      },
      "execution_count": null,
      "outputs": [
        {
          "output_type": "stream",
          "name": "stdout",
          "text": [
            "Mounted at /content/drive\n",
            "                                       padded_tokens  label\n",
            "0  [4654, 2564, 8701, 5920, 2890, 13013, 2135, 10...      1\n",
            "1  [2572, 1045, 6881, 1045, 2123, 1005, 1056, 213...      0\n",
            "2  [2633, 12609, 2003, 2471, 2058, 1012, 1012, 10...      0\n",
            "3  [1045, 2342, 2393, 29427, 2393, 2033, 10047, 6...      1\n",
            "4  [1045, 1521, 1049, 2061, 2439, 18223, 2080, 10...      1\n"
          ]
        }
      ]
    },
    {
      "cell_type": "code",
      "source": [
        "X = df['padded_tokens']\n",
        "y = df['label']\n",
        "\n",
        "X = np.array(df['padded_tokens'].tolist())\n",
        "\n",
        "print('X shape:', X.shape)"
      ],
      "metadata": {
        "colab": {
          "base_uri": "https://localhost:8080/"
        },
        "id": "GTFSnHiT_M9D",
        "outputId": "fa577f15-9b0a-4e03-f381-949f6ba1a68b"
      },
      "execution_count": null,
      "outputs": [
        {
          "output_type": "stream",
          "name": "stdout",
          "text": [
            "X shape: (310601, 250)\n"
          ]
        }
      ]
    },
    {
      "cell_type": "code",
      "source": [
        "X_train, X_test, y_train, y_test = train_test_split(X, y, test_size=0.2, random_state=42)"
      ],
      "metadata": {
        "id": "8GoWkh8a_TPs"
      },
      "execution_count": null,
      "outputs": []
    },
    {
      "cell_type": "code",
      "source": [
        "max_token_id = max([max(tokens) for tokens in df['padded_tokens'] if tokens])\n",
        "\n",
        "max_length = 250  # each sequence is padded to 250\n",
        "vocab_size = max_token_id + 1 # +1 for pad\n",
        "embedding_dim = 3"
      ],
      "metadata": {
        "id": "XO-b4UoF_byo"
      },
      "execution_count": null,
      "outputs": []
    },
    {
      "cell_type": "code",
      "source": [
        "model = Sequential([\n",
        "    Embedding(input_dim=vocab_size, output_dim=embedding_dim, input_length=max_length),\n",
        "    Conv1D(filters=3, kernel_size=2, activation='relu'),\n",
        "    Flatten(),\n",
        "    Dense(1, activation='sigmoid')\n",
        "])\n",
        "\n",
        "model.compile(loss='binary_crossentropy', optimizer='adam', metrics=['accuracy'])"
      ],
      "metadata": {
        "id": "Sg_y87jVAbg2"
      },
      "execution_count": null,
      "outputs": []
    },
    {
      "cell_type": "code",
      "source": [
        "model.summary()"
      ],
      "metadata": {
        "colab": {
          "base_uri": "https://localhost:8080/"
        },
        "id": "8NFpjiYBZ3wu",
        "outputId": "d51ae009-d4dc-4b71-9f82-0b753232dfbd"
      },
      "execution_count": null,
      "outputs": [
        {
          "output_type": "stream",
          "name": "stdout",
          "text": [
            "Model: \"sequential_4\"\n",
            "_________________________________________________________________\n",
            " Layer (type)                Output Shape              Param #   \n",
            "=================================================================\n",
            " embedding_4 (Embedding)     (None, 250, 3)            91566     \n",
            "                                                                 \n",
            " conv1d_4 (Conv1D)           (None, 249, 3)            21        \n",
            "                                                                 \n",
            " flatten_2 (Flatten)         (None, 747)               0         \n",
            "                                                                 \n",
            " dense_4 (Dense)             (None, 1)                 748       \n",
            "                                                                 \n",
            "=================================================================\n",
            "Total params: 92335 (360.68 KB)\n",
            "Trainable params: 92335 (360.68 KB)\n",
            "Non-trainable params: 0 (0.00 Byte)\n",
            "_________________________________________________________________\n"
          ]
        }
      ]
    },
    {
      "cell_type": "code",
      "source": [
        "early_stopping = EarlyStopping(\n",
        "    monitor='val_loss',\n",
        "    patience=3,\n",
        "    verbose=1,\n",
        "    restore_best_weights=True\n",
        ")\n",
        "history = model.fit(X_train, y_train, epochs=5, batch_size=64, validation_split=0.2, callbacks=[early_stopping])"
      ],
      "metadata": {
        "colab": {
          "base_uri": "https://localhost:8080/"
        },
        "id": "n20UAbmvBcmq",
        "outputId": "f1a730de-2df2-4d55-853b-78cc55a5f089"
      },
      "execution_count": null,
      "outputs": [
        {
          "output_type": "stream",
          "name": "stdout",
          "text": [
            "Epoch 1/5\n",
            "3106/3106 [==============================] - 100s 32ms/step - loss: 0.2562 - accuracy: 0.8945 - val_loss: 0.1970 - val_accuracy: 0.9317\n",
            "Epoch 2/5\n",
            "3106/3106 [==============================] - 22s 7ms/step - loss: 0.1615 - accuracy: 0.9407 - val_loss: 0.1739 - val_accuracy: 0.9340\n",
            "Epoch 3/5\n",
            "3106/3106 [==============================] - 20s 6ms/step - loss: 0.1422 - accuracy: 0.9481 - val_loss: 0.1660 - val_accuracy: 0.9407\n",
            "Epoch 4/5\n",
            "3106/3106 [==============================] - 17s 6ms/step - loss: 0.1307 - accuracy: 0.9529 - val_loss: 0.1686 - val_accuracy: 0.9407\n",
            "Epoch 5/5\n",
            "3106/3106 [==============================] - 16s 5ms/step - loss: 0.1221 - accuracy: 0.9557 - val_loss: 0.1757 - val_accuracy: 0.9394\n"
          ]
        }
      ]
    },
    {
      "cell_type": "code",
      "source": [
        "test_loss, test_accuracy = model.evaluate(X_test, y_test)\n",
        "print(f\"Test accuracy: {test_accuracy:.4f}, Test loss: {test_loss:.4f}\")"
      ],
      "metadata": {
        "colab": {
          "base_uri": "https://localhost:8080/"
        },
        "id": "f9BRTGKfG59o",
        "outputId": "1d81fab7-00e4-4f88-e53b-0d7a9f4c4512"
      },
      "execution_count": null,
      "outputs": [
        {
          "output_type": "stream",
          "name": "stdout",
          "text": [
            "1942/1942 [==============================] - 5s 2ms/step - loss: 0.1750 - accuracy: 0.9373\n",
            "Test accuracy: 0.9373, Test loss: 0.1750\n"
          ]
        }
      ]
    },
    {
      "cell_type": "code",
      "source": [
        "model.save('/content/drive/My Drive/CSCI2470_final_project/CNN_base', save_format=\"h5\")"
      ],
      "metadata": {
        "id": "Z21bHnCHICCK",
        "colab": {
          "base_uri": "https://localhost:8080/"
        },
        "outputId": "db07fe94-8cae-4de1-a737-9d1af34210d5"
      },
      "execution_count": null,
      "outputs": [
        {
          "output_type": "stream",
          "name": "stderr",
          "text": [
            "/usr/local/lib/python3.10/dist-packages/keras/src/engine/training.py:3103: UserWarning: You are saving your model as an HDF5 file via `model.save()`. This file format is considered legacy. We recommend using instead the native Keras format, e.g. `model.save('my_model.keras')`.\n",
            "  saving_api.save_model(\n"
          ]
        }
      ]
    }
  ]
}